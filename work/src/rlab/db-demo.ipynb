{
 "cells": [
  {
   "cell_type": "markdown",
   "id": "ea14afbd-b069-44cf-ab00-ca5998181818",
   "metadata": {},
   "source": [
    "# DB demo"
   ]
  },
  {
   "cell_type": "markdown",
   "id": "87afd3af-e7a7-4b26-a27c-18c20e70222f",
   "metadata": {
    "tags": []
   },
   "source": [
    "## Dependency\n",
    "\n",
    "```bash\n",
    "$ mamba install -c conda-forge r-rpostgresql -y\n",
    "```"
   ]
  },
  {
   "cell_type": "code",
   "execution_count": 1,
   "id": "80612368-af11-4428-9a85-f86e736ce720",
   "metadata": {
    "tags": [],
    "vscode": {
     "languageId": "r"
    }
   },
   "outputs": [
    {
     "name": "stderr",
     "output_type": "stream",
     "text": [
      "Loading required package: DBI\n",
      "\n"
     ]
    }
   ],
   "source": [
    "library(RPostgreSQL)"
   ]
  },
  {
   "cell_type": "markdown",
   "id": "9b4d7224-e8d7-46ec-849e-0f1abd4b8575",
   "metadata": {},
   "source": [
    "## Connection\n",
    "\n",
    "When running in Docker, the hostname is the service name."
   ]
  },
  {
   "cell_type": "code",
   "execution_count": 2,
   "id": "4a3de041-19cd-4241-987d-52a9b8c76dcc",
   "metadata": {
    "tags": [],
    "vscode": {
     "languageId": "r"
    }
   },
   "outputs": [],
   "source": [
    "con <- dbConnect(PostgreSQL(),\n",
    "                 host=\"db\",\n",
    "                 port=\"5432\",\n",
    "                 dbname=\"postgres\",\n",
    "                 user= \"postgres\",\n",
    "                 password=\"madison\")"
   ]
  },
  {
   "cell_type": "markdown",
   "id": "4f790e12-070e-470f-a630-52ac7a3c360e",
   "metadata": {},
   "source": [
    "Disconnect or shut down the kernel when done."
   ]
  },
  {
   "cell_type": "code",
   "execution_count": 3,
   "id": "657e0be1-e491-47c0-a6ad-fb7c9a8d3c9a",
   "metadata": {
    "tags": []
   },
   "outputs": [
    {
     "data": {
      "text/html": [
       "TRUE"
      ],
      "text/latex": [
       "TRUE"
      ],
      "text/markdown": [
       "TRUE"
      ],
      "text/plain": [
       "[1] TRUE"
      ]
     },
     "metadata": {},
     "output_type": "display_data"
    }
   ],
   "source": [
    "dbDisconnect(con)"
   ]
  },
  {
   "cell_type": "markdown",
   "id": "acc749cc-ccfe-4bfc-9b5a-7eac52bb5d04",
   "metadata": {},
   "source": [
    "## Usage\n",
    "\n",
    "Load the prelude for DB with the following code:\n",
    "\n",
    "```r\n",
    "source(\"db-prelude.R\")\n",
    "```"
   ]
  }
 ],
 "metadata": {
  "kernelspec": {
   "display_name": "R",
   "language": "R",
   "name": "ir"
  },
  "language_info": {
   "codemirror_mode": "r",
   "file_extension": ".r",
   "mimetype": "text/x-r-source",
   "name": "R",
   "pygments_lexer": "r",
   "version": "4.2.3"
  },
  "toc-autonumbering": false,
  "toc-showcode": true,
  "toc-showmarkdowntxt": true
 },
 "nbformat": 4,
 "nbformat_minor": 5
}

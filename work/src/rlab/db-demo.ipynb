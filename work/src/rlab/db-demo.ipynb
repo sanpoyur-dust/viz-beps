{
 "cells": [
  {
   "attachments": {},
   "cell_type": "markdown",
   "id": "ea14afbd-b069-44cf-ab00-ca5998181818",
   "metadata": {},
   "source": [
    "# DB demo"
   ]
  },
  {
   "attachments": {},
   "cell_type": "markdown",
   "id": "87afd3af-e7a7-4b26-a27c-18c20e70222f",
   "metadata": {
    "tags": []
   },
   "source": [
    "## Dependency\n",
    "\n",
    "```bash\n",
    "$ mamba install -c conda-forge r-rpostgresql -y\n",
    "```"
   ]
  },
  {
   "cell_type": "code",
   "execution_count": null,
   "id": "80612368-af11-4428-9a85-f86e736ce720",
   "metadata": {
    "tags": [],
    "vscode": {
     "languageId": "r"
    }
   },
   "outputs": [],
   "source": [
    "library(RPostgreSQL)"
   ]
  },
  {
   "attachments": {},
   "cell_type": "markdown",
   "id": "9b4d7224-e8d7-46ec-849e-0f1abd4b8575",
   "metadata": {},
   "source": [
    "## Connection\n",
    "\n",
    "When running in Docker, the hostname is the service name."
   ]
  },
  {
   "cell_type": "code",
   "execution_count": null,
   "id": "4a3de041-19cd-4241-987d-52a9b8c76dcc",
   "metadata": {
    "tags": [],
    "vscode": {
     "languageId": "r"
    }
   },
   "outputs": [],
   "source": [
    "con <- dbConnect(PostgreSQL(),\n",
    "                 host=\"db\",\n",
    "                 port=\"5432\",\n",
    "                 dbname=\"postgres\",\n",
    "                 user= \"postgres\",\n",
    "                 password=\"madison\")"
   ]
  },
  {
   "attachments": {},
   "cell_type": "markdown",
   "id": "acc749cc-ccfe-4bfc-9b5a-7eac52bb5d04",
   "metadata": {},
   "source": [
    "## Usage\n",
    "\n",
    "Load the prelude for DB with the following code:\n",
    "\n",
    "```r\n",
    "source(\"db-prelude.R\")\n",
    "```"
   ]
  }
 ],
 "metadata": {
  "kernelspec": {
   "display_name": "R",
   "language": "R",
   "name": "ir"
  },
  "language_info": {
   "codemirror_mode": "r",
   "file_extension": ".r",
   "mimetype": "text/x-r-source",
   "name": "R",
   "pygments_lexer": "r",
   "version": "4.2.3"
  },
  "toc-autonumbering": false,
  "toc-showcode": true,
  "toc-showmarkdowntxt": true
 },
 "nbformat": 4,
 "nbformat_minor": 5
}
